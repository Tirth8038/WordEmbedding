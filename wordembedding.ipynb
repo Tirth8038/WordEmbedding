{
  "nbformat": 4,
  "nbformat_minor": 0,
  "metadata": {
    "colab": {
      "name": "wordembedding.ipynb",
      "provenance": [],
      "collapsed_sections": []
    },
    "kernelspec": {
      "name": "python3",
      "display_name": "Python 3"
    }
  },
  "cells": [
    {
      "cell_type": "markdown",
      "metadata": {
        "id": "6_EeNbWSNRAN"
      },
      "source": [
        "Word embeddings provide a dense representation of words and their relative meanings.They are an improvement over sparse representations used in simpler bag of word model representations.Word embeddings can be learned from text data and reused among projects. They can also be learned as part of fitting a neural network on text data."
      ]
    },
    {
      "cell_type": "code",
      "metadata": {
        "id": "QbzgtYEEzLY-"
      },
      "source": [
        "#Importing Necessary Libraries for Tensorflow Hub\n",
        "import numpy as np\n",
        "import tensorflow_hub as hub"
      ],
      "execution_count": 1,
      "outputs": []
    },
    {
      "cell_type": "markdown",
      "metadata": {
        "id": "BHsG5_fTNDsm"
      },
      "source": [
        "Text embedding based on skipgram version of word2vec with 1 out-of-vocabulary bucket. Maps from text to 250-dimensional embedding vectors."
      ]
    },
    {
      "cell_type": "code",
      "metadata": {
        "id": "LHiqOF0szZJ5"
      },
      "source": [
        "#Loading the Dataset\n",
        "embedding= hub.load (\"https://tfhub.dev/google/Wiki-words-250/2\")"
      ],
      "execution_count": 2,
      "outputs": []
    },
    {
      "cell_type": "code",
      "metadata": {
        "id": "ebQt1Vq3zkAK"
      },
      "source": [
        "\n",
        "a = embedding ([\" king \"])\n",
        "b = embedding ([\" man \"])\n",
        "c = embedding ([\" woman \"])\n",
        "d = embedding ([\" queen \"])\n"
      ],
      "execution_count": 3,
      "outputs": []
    },
    {
      "cell_type": "code",
      "metadata": {
        "colab": {
          "base_uri": "https://localhost:8080/"
        },
        "id": "7QeppNB_0gtS",
        "outputId": "c22f112d-aed9-48a9-b8ed-50d1b00b92bf"
      },
      "source": [
        "# Storing the result of\u0010vector(\u0010King\u0011) − vector(\u0010Man\u0011) + vector(\u0010Woman\u0011)\n",
        "X= a-b+c\n",
        "print(\"King-Man+Woman:\", [X])"
      ],
      "execution_count": 4,
      "outputs": [
        {
          "output_type": "stream",
          "text": [
            "King-Man+Woman: [<tf.Tensor: shape=(1, 250), dtype=float32, numpy=\n",
            "array([[-0.12994584, -0.17411731,  0.08241335, -0.09460426, -0.02963368,\n",
            "         0.00833852, -0.01580581, -0.07200217, -0.0374763 , -0.01857486,\n",
            "         0.04575163, -0.06350955,  0.0310036 ,  0.04439414,  0.06356907,\n",
            "        -0.02856771,  0.05558529,  0.07249814, -0.02398837,  0.0455301 ,\n",
            "        -0.07038731,  0.00989324, -0.05211002, -0.02339969, -0.10386609,\n",
            "        -0.00747646, -0.0174827 , -0.15109651, -0.16803886, -0.03159868,\n",
            "        -0.04374632,  0.0941674 ,  0.05635576, -0.11544351, -0.01706913,\n",
            "        -0.0181496 ,  0.05560432,  0.01284544, -0.09410097,  0.08030569,\n",
            "        -0.13458134, -0.12798919, -0.14993384,  0.06665589,  0.07577673,\n",
            "        -0.12577374, -0.06869593, -0.10468247, -0.01054525, -0.07139292,\n",
            "        -0.00569897, -0.02220746, -0.11851092, -0.09434773,  0.06391967,\n",
            "         0.04567089,  0.14339279, -0.13938236, -0.03750862,  0.03229091,\n",
            "         0.07670465,  0.05507568, -0.01978571,  0.0488369 ,  0.06290312,\n",
            "        -0.02575352, -0.04922489,  0.03056283, -0.07172222,  0.06982613,\n",
            "         0.0803801 , -0.04973414, -0.02608817,  0.02759914,  0.002708  ,\n",
            "        -0.05333981,  0.03711914, -0.09599224,  0.03230607, -0.02972047,\n",
            "        -0.0615705 , -0.06141805,  0.17323463, -0.04320083, -0.07951543,\n",
            "        -0.02547963, -0.06859723, -0.01553594, -0.04165017,  0.02113948,\n",
            "         0.07423727, -0.07921132, -0.01724075, -0.05560023,  0.06555721,\n",
            "         0.05268419, -0.0192046 , -0.0866887 ,  0.01040605,  0.08001635,\n",
            "         0.05380156,  0.1543872 , -0.02615696,  0.07417218, -0.20474243,\n",
            "         0.11950888, -0.1324215 ,  0.00879025,  0.00739774,  0.06482171,\n",
            "         0.01035097,  0.03585192, -0.10165727,  0.11948258, -0.08690634,\n",
            "         0.02516122, -0.05741835,  0.01614384, -0.0519414 , -0.00041243,\n",
            "         0.08684582,  0.04555257, -0.02207289, -0.02609378,  0.10907193,\n",
            "        -0.04955634, -0.05254844, -0.01550413,  0.00133016,  0.04234105,\n",
            "         0.07710397, -0.0439746 ,  0.04601943, -0.05255038,  0.16154867,\n",
            "        -0.01456506,  0.02098858, -0.03760958, -0.05088559, -0.15935194,\n",
            "         0.12163188, -0.06758945, -0.01911313, -0.01079746,  0.02780328,\n",
            "        -0.08232888, -0.04015777,  0.07017996,  0.02528294,  0.06738663,\n",
            "        -0.00742915, -0.0701405 , -0.06927051,  0.11858883,  0.01074681,\n",
            "        -0.06430183,  0.07137705, -0.04360432,  0.01252709, -0.02756085,\n",
            "         0.04253813, -0.05186563,  0.06491366, -0.0356636 , -0.02376426,\n",
            "        -0.02842608, -0.06913847,  0.06751455,  0.14509952, -0.01843431,\n",
            "        -0.05114117, -0.01097725, -0.03928608, -0.02968133, -0.00317439,\n",
            "         0.02707167, -0.13780919,  0.01633139,  0.07788566,  0.01345414,\n",
            "        -0.04022622, -0.05141499, -0.00484858,  0.02714027,  0.05863062,\n",
            "         0.00706645, -0.06936499,  0.08888212, -0.03058738, -0.08569148,\n",
            "        -0.07521473, -0.02533121, -0.21343365, -0.08270675, -0.08997436,\n",
            "        -0.02867441, -0.00746529, -0.03505145, -0.01891331,  0.01864205,\n",
            "        -0.05430565,  0.11990292, -0.01086501,  0.00871192,  0.03589291,\n",
            "         0.00432714,  0.02932635,  0.01359615, -0.08351292, -0.08115736,\n",
            "         0.04097844, -0.02255999, -0.04587416, -0.04101024, -0.06847794,\n",
            "        -0.06374119,  0.05628698,  0.00374963, -0.02684985,  0.0231915 ,\n",
            "         0.03232276,  0.09758668, -0.01291919,  0.06886382,  0.04873909,\n",
            "         0.07173714,  0.07715012,  0.11576906,  0.07526608,  0.02519506,\n",
            "        -0.13528627, -0.00261188, -0.02652643, -0.04245754, -0.07537253,\n",
            "        -0.04215054,  0.01132629,  0.0033743 ,  0.00175655,  0.10029789,\n",
            "         0.02301757,  0.04389887,  0.0325456 ,  0.10542942,  0.05422645,\n",
            "         0.02636919,  0.16428472,  0.07135022, -0.02868139, -0.04592651]],\n",
            "      dtype=float32)>]\n"
          ],
          "name": "stdout"
        }
      ]
    },
    {
      "cell_type": "code",
      "metadata": {
        "colab": {
          "base_uri": "https://localhost:8080/"
        },
        "id": "eR2SN1c3wxvU",
        "outputId": "26865847-77b3-46a9-f731-ef19e98ac73f"
      },
      "source": [
        "# Storing the result of\u0010vector(Woman) − vector(King) + vector(Queen) to find similarity of Man\n",
        "Y= c-a+d\n",
        "print(\"Woman-King+Queen:\", [Y])"
      ],
      "execution_count": 5,
      "outputs": [
        {
          "output_type": "stream",
          "text": [
            "Woman-King+Queen: [<tf.Tensor: shape=(1, 250), dtype=float32, numpy=\n",
            "array([[ 0.02118351, -0.12248733, -0.06041376,  0.07144362, -0.10978897,\n",
            "         0.07119545,  0.04992773, -0.02743515, -0.06480911, -0.20285434,\n",
            "         0.11473861,  0.02721604,  0.05260982,  0.1065385 ,  0.01394302,\n",
            "        -0.1647489 ,  0.07203833,  0.11857994, -0.00095271, -0.09147857,\n",
            "         0.03879085,  0.02359177,  0.04185368, -0.04939352, -0.07421876,\n",
            "         0.03422938,  0.08419857,  0.09070219,  0.00358181,  0.1773604 ,\n",
            "         0.1088568 ,  0.08282477,  0.12156986, -0.1598848 , -0.05240928,\n",
            "        -0.13726465,  0.0233911 ,  0.00856919,  0.09519659, -0.03324209,\n",
            "        -0.02363841, -0.17106755, -0.08100536, -0.05365514,  0.08478432,\n",
            "        -0.0671075 , -0.1854074 ,  0.07032573, -0.07756672, -0.08777828,\n",
            "         0.08333436,  0.0141644 , -0.09988222,  0.08947498,  0.01964116,\n",
            "         0.01092771,  0.01083473, -0.01248896,  0.08680015,  0.01968326,\n",
            "        -0.10005222, -0.08237934, -0.13430107,  0.08316801,  0.04884513,\n",
            "        -0.07713987, -0.13929936,  0.09498294, -0.03486824,  0.02380846,\n",
            "         0.06927926,  0.01761305,  0.13750444, -0.00752941,  0.1556118 ,\n",
            "         0.12604979, -0.12095726,  0.11253059,  0.10002637, -0.0126875 ,\n",
            "        -0.1073025 ,  0.05811654, -0.13864946,  0.10034252, -0.26357985,\n",
            "         0.02835339, -0.15064837, -0.13568105, -0.14177758,  0.06857974,\n",
            "        -0.05791904, -0.00466996, -0.08076671,  0.00867955,  0.01916094,\n",
            "         0.03219238, -0.12782183, -0.06570328,  0.06144888, -0.04580905,\n",
            "         0.00700289,  0.14713965,  0.13257256,  0.1450265 , -0.02536294,\n",
            "         0.04864482, -0.15435264,  0.07836944, -0.04811279,  0.04323046,\n",
            "        -0.07312281,  0.07095121, -0.02980317,  0.1007897 , -0.16770299,\n",
            "        -0.00386073,  0.03482821, -0.28901362, -0.03813103,  0.0760597 ,\n",
            "        -0.08674161,  0.1313369 ,  0.11941909, -0.04541943,  0.03557085,\n",
            "        -0.13313514, -0.06248482,  0.12192231,  0.03910283,  0.04576282,\n",
            "        -0.10999566,  0.00686807, -0.1398158 , -0.11154315, -0.02692729,\n",
            "         0.06846707,  0.03408418, -0.10159317, -0.09295809, -0.02512984,\n",
            "        -0.00130905,  0.08549587, -0.05541939,  0.10885935,  0.09329657,\n",
            "         0.02282502, -0.11867064,  0.07346977, -0.03778294,  0.08997878,\n",
            "         0.06223164, -0.21420512,  0.00607224,  0.01418127,  0.12257934,\n",
            "         0.03586721,  0.0806535 , -0.21265149, -0.07061044, -0.00181462,\n",
            "        -0.08533323, -0.05661057, -0.1386005 , -0.1730201 ,  0.0180196 ,\n",
            "         0.06364354, -0.09119076,  0.07647885,  0.00502705,  0.14932606,\n",
            "         0.03504785, -0.04051492, -0.09716804, -0.007347  , -0.08403044,\n",
            "        -0.16903383, -0.03320795, -0.0574449 ,  0.00431496,  0.0818263 ,\n",
            "         0.1140981 ,  0.04869486,  0.1191691 , -0.03145757,  0.1691218 ,\n",
            "        -0.01393081,  0.04863643,  0.05336243, -0.0846682 , -0.10667706,\n",
            "        -0.10777002, -0.2142241 , -0.02161396, -0.10057329, -0.04882553,\n",
            "        -0.06425735,  0.03727715, -0.0807426 , -0.00201294, -0.10755832,\n",
            "        -0.03186982, -0.11239031, -0.02024847, -0.04221651,  0.00343688,\n",
            "        -0.04543903, -0.0014091 ,  0.047296  , -0.027278  , -0.04150078,\n",
            "        -0.11106503,  0.07280727,  0.10565815, -0.19802535,  0.0665987 ,\n",
            "        -0.01942319, -0.06790997,  0.08788323, -0.0101259 ,  0.0621637 ,\n",
            "        -0.06015013,  0.17796415,  0.0220718 ,  0.01037688, -0.02456979,\n",
            "         0.0600193 ,  0.00961434,  0.00132819, -0.04127185, -0.09514563,\n",
            "        -0.114323  , -0.25191176, -0.1222683 ,  0.0233013 ,  0.00827528,\n",
            "         0.02496601,  0.21033579, -0.02197347,  0.01333139,  0.12950477,\n",
            "        -0.06827849, -0.02473128, -0.05105483,  0.12185287,  0.09748419,\n",
            "        -0.08707435,  0.02893627, -0.00428381,  0.04799437,  0.01936055]],\n",
            "      dtype=float32)>]\n"
          ],
          "name": "stdout"
        }
      ]
    },
    {
      "cell_type": "code",
      "metadata": {
        "id": "gfXCEIMFrT5B"
      },
      "source": [
        "# Storing the result of\u0010vector(King) − vector(Man) to find similarity with vector(Queen) − vector(Woman)\n",
        "Z= a-b #King-Man\n",
        "U= d-c #Queen-Woman"
      ],
      "execution_count": 6,
      "outputs": []
    },
    {
      "cell_type": "code",
      "metadata": {
        "colab": {
          "base_uri": "https://localhost:8080/"
        },
        "id": "I1uQ0IFyuPID",
        "outputId": "7a316406-a795-429a-98b9-1a3dde902948"
      },
      "source": [
        "#Calculating the Cosine Similarity between Vectors of Words.\n",
        "from sklearn.metrics.pairwise import cosine_similarity\n",
        "\n",
        "print(\"Similarity between King-Man+Woman and Queen:\",cosine_similarity(X,d))\n",
        "print(\"Similarity between Woman-King+Queen and Man:\",cosine_similarity(Y,b))\n",
        "print(\"Similarity between King-Man and Queen-Woman:\",cosine_similarity(Z,U))\n",
        "print(\"Similarity between Man and Woman:\",cosine_similarity(b,c))\n",
        "print(\"Similarity between King and Queen:\",cosine_similarity(a,d))\n",
        "print(\"Similarity between Man and King:\",cosine_similarity(a,b))\n",
        "print(\"Similarity between Woman and Queen:\",cosine_similarity(c,d))"
      ],
      "execution_count": 7,
      "outputs": [
        {
          "output_type": "stream",
          "text": [
            "Similarity between King-Man+Woman and Queen: [[0.763873]]\n",
            "Similarity between Woman-King+Queen and Man: [[0.63743]]\n",
            "Similarity between King-Man and Queen-Woman: [[0.7635017]]\n",
            "Similarity between Man and Woman: [[0.8381338]]\n",
            "Similarity between King and Queen: [[0.71021986]]\n",
            "Similarity between Man and King: [[0.36127636]]\n",
            "Similarity between Woman and Queen: [[0.5902161]]\n"
          ],
          "name": "stdout"
        }
      ]
    },
    {
      "cell_type": "markdown",
      "metadata": {
        "id": "gBGnRoaB0GMY"
      },
      "source": [
        " To Find the top 5 closest words to the word \u0010\"dog\"\u0011"
      ]
    },
    {
      "cell_type": "code",
      "metadata": {
        "id": "a4EFvrnu0F9z"
      },
      "source": [
        "#Taking the Vector Representation of Word \"dog\"\n",
        "e = embedding ([\"dog\"])"
      ],
      "execution_count": 8,
      "outputs": []
    },
    {
      "cell_type": "code",
      "metadata": {
        "id": "cT3Cvs1OxnpD"
      },
      "source": [
        "#Trying to find the relationship of below words with \"dog\"\n",
        "f = embedding ([\"doggy\"])\n",
        "g = embedding ([\"hound\"])\n",
        "h = embedding ([\"pup\"])\n",
        "i = embedding ([\"canine\"])\n",
        "j = embedding ([\"puppy\"])\n",
        "k = embedding ([\"pet\"])"
      ],
      "execution_count": 9,
      "outputs": []
    },
    {
      "cell_type": "code",
      "metadata": {
        "colab": {
          "base_uri": "https://localhost:8080/"
        },
        "id": "KKnbX4XJzFhL",
        "outputId": "fab608d5-d67f-41e3-fff7-415e62d6d4c1"
      },
      "source": [
        "print(\"Similarity between Dog and Pup:\",cosine_similarity(e,h))\n",
        "print(\"Similarity between Dog and Doggy:\",cosine_similarity(e,f))\n",
        "print(\"Similarity between Dog and Canine:\",cosine_similarity(e,i))\n",
        "print(\"Similarity between Dog and Puppy:\",cosine_similarity(e,j))\n",
        "print(\"Similarity between Dog and Hound:\",cosine_similarity(e,g))\n",
        "print(\"Similarity between Dog and Pet:\",cosine_similarity(e,k))"
      ],
      "execution_count": 10,
      "outputs": [
        {
          "output_type": "stream",
          "text": [
            "Similarity between Dog and Pup: [[0.6987275]]\n",
            "Similarity between Dog and Doggy: [[0.6388842]]\n",
            "Similarity between Dog and Canine: [[0.6049171]]\n",
            "Similarity between Dog and Puppy: [[0.8488173]]\n",
            "Similarity between Dog and Hound: [[0.78350145]]\n",
            "Similarity between Dog and Pet: [[0.8255564]]\n"
          ],
          "name": "stdout"
        }
      ]
    },
    {
      "cell_type": "code",
      "metadata": {
        "colab": {
          "base_uri": "https://localhost:8080/"
        },
        "id": "3MQuKXqNzjd9",
        "outputId": "9251e45b-e5df-4175-97da-f4ca5759d234"
      },
      "source": [
        "l = embedding ([\"bull dog\"])\n",
        "print(\"Similarity between Dog and Bulldog:\",cosine_similarity(e,l))\n",
        "m = embedding ([\"sheep dog\"])\n",
        "print(\"Similarity between Dog and Sheepdog:\",cosine_similarity(e,m))\n",
        "n = embedding ([\"cat\"])\n",
        "print(\"Similarity between Dog and cat:\",cosine_similarity(e,n))\n",
        "o = embedding ([\"kennel\"])\n",
        "print(\"Similarity between Dog and cat:\",cosine_similarity(e,o))\n",
        "o = embedding ([\"pet dog\"])\n",
        "print(\"Similarity between Dog and cat:\",cosine_similarity(e,o))"
      ],
      "execution_count": 43,
      "outputs": [
        {
          "output_type": "stream",
          "text": [
            "Similarity between Dog and Bulldog: [[0.86425537]]\n",
            "Similarity between Dog and Sheepdog: [[0.88398373]]\n",
            "Similarity between Dog and cat: [[0.8490828]]\n",
            "Similarity between Dog and cat: [[0.7129229]]\n",
            "Similarity between Dog and cat: [[0.95539427]]\n"
          ],
          "name": "stdout"
        }
      ]
    }
  ]
}